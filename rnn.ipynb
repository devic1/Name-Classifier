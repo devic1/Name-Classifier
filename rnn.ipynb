{
  "nbformat": 4,
  "nbformat_minor": 0,
  "metadata": {
    "colab": {
      "provenance": []
    },
    "kernelspec": {
      "name": "python3",
      "display_name": "Python 3"
    },
    "language_info": {
      "name": "python"
    }
  },
  "cells": [
    {
      "cell_type": "code",
      "execution_count": 1,
      "metadata": {
        "colab": {
          "base_uri": "https://localhost:8080/"
        },
        "id": "dqQtImBOSRvz",
        "outputId": "eb15eae6-796a-4e54-c109-461f4885cc0a"
      },
      "outputs": [
        {
          "output_type": "stream",
          "name": "stdout",
          "text": [
            "--2023-02-09 22:27:28--  https://download.pytorch.org/tutorial/data.zip\n",
            "Resolving download.pytorch.org (download.pytorch.org)... 99.84.192.8, 99.84.192.10, 99.84.192.129, ...\n",
            "Connecting to download.pytorch.org (download.pytorch.org)|99.84.192.8|:443... connected.\n",
            "HTTP request sent, awaiting response... 200 OK\n",
            "Length: 2882130 (2.7M) [application/zip]\n",
            "Saving to: ‘data.zip’\n",
            "\n",
            "data.zip            100%[===================>]   2.75M  6.51MB/s    in 0.4s    \n",
            "\n",
            "2023-02-09 22:27:30 (6.51 MB/s) - ‘data.zip’ saved [2882130/2882130]\n",
            "\n"
          ]
        }
      ],
      "source": [
        "!wget https://download.pytorch.org/tutorial/data.zip"
      ]
    },
    {
      "cell_type": "code",
      "source": [
        "!unzip data.zip"
      ],
      "metadata": {
        "colab": {
          "base_uri": "https://localhost:8080/"
        },
        "id": "rgN3rf8vSnQk",
        "outputId": "a01034d5-6d06-4e65-d9e0-83d21b3d685f"
      },
      "execution_count": 2,
      "outputs": [
        {
          "output_type": "stream",
          "name": "stdout",
          "text": [
            "Archive:  data.zip\n",
            "   creating: data/\n",
            "  inflating: data/eng-fra.txt        \n",
            "   creating: data/names/\n",
            "  inflating: data/names/Arabic.txt   \n",
            "  inflating: data/names/Chinese.txt  \n",
            "  inflating: data/names/Czech.txt    \n",
            "  inflating: data/names/Dutch.txt    \n",
            "  inflating: data/names/English.txt  \n",
            "  inflating: data/names/French.txt   \n",
            "  inflating: data/names/German.txt   \n",
            "  inflating: data/names/Greek.txt    \n",
            "  inflating: data/names/Irish.txt    \n",
            "  inflating: data/names/Italian.txt  \n",
            "  inflating: data/names/Japanese.txt  \n",
            "  inflating: data/names/Korean.txt   \n",
            "  inflating: data/names/Polish.txt   \n",
            "  inflating: data/names/Portuguese.txt  \n",
            "  inflating: data/names/Russian.txt  \n",
            "  inflating: data/names/Scottish.txt  \n",
            "  inflating: data/names/Spanish.txt  \n",
            "  inflating: data/names/Vietnamese.txt  \n"
          ]
        }
      ]
    },
    {
      "cell_type": "code",
      "source": [
        "import torch \n",
        "import torch.nn as nn\n",
        "import os\n",
        "import unicodedata"
      ],
      "metadata": {
        "id": "qu31ekedUWD1"
      },
      "execution_count": 90,
      "outputs": []
    },
    {
      "cell_type": "code",
      "source": [
        "lett = set()\n",
        "g = \" .,;'\"\n",
        "for i in g:\n",
        "  lett.add(i)\n",
        "lett"
      ],
      "metadata": {
        "colab": {
          "base_uri": "https://localhost:8080/"
        },
        "id": "yHzKmhW5Z7Ha",
        "outputId": "57633873-75e8-46d3-c7c3-43ea175ec696"
      },
      "execution_count": 110,
      "outputs": [
        {
          "output_type": "execute_result",
          "data": {
            "text/plain": [
              "{' ', \"'\", ',', '.', ';'}"
            ]
          },
          "metadata": {},
          "execution_count": 110
        }
      ]
    },
    {
      "cell_type": "code",
      "source": [
        "cat = {}\n",
        "for i in os.listdir(\"data/names\"):\n",
        "  with open(os.path.join(\"data\",\"names\",i),\"r\") as f:\n",
        "    nd = f.read().split(\"\\n\")\n",
        "    for j in nd:\n",
        "      for k in j:\n",
        "        k = unicodedata.normalize('NFKD',k).encode('ascii', 'ignore').decode()\n",
        "        lett.add(k)\n",
        "    cat[i[:-4]] = nd\n",
        "n_cat = len(cat)"
      ],
      "metadata": {
        "id": "ESqzUPceVWu9"
      },
      "execution_count": 111,
      "outputs": []
    },
    {
      "cell_type": "code",
      "source": [
        "ltoi = {j:i for i,j in enumerate(lett)}\n",
        "ln_l = len(ltoi)\n",
        "print(ltoi)\n",
        "ln_l"
      ],
      "metadata": {
        "colab": {
          "base_uri": "https://localhost:8080/"
        },
        "id": "5IINROYlaO7D",
        "outputId": "1b00f082-4232-46a5-941b-7229fb23a812"
      },
      "execution_count": 119,
      "outputs": [
        {
          "output_type": "stream",
          "name": "stdout",
          "text": [
            "{'': 0, ',': 1, 'D': 2, 'M': 3, 'A': 4, 'E': 5, 'X': 6, 't': 7, 'd': 8, 'm': 9, 'j': 10, '/': 11, 'q': 12, '-': 13, 'n': 14, 'g': 15, 'V': 16, ':': 17, 'Q': 18, 'k': 19, 'v': 20, ' ': 21, 'L': 22, 'N': 23, \"'\": 24, 'c': 25, '1': 26, 'p': 27, 'z': 28, 'w': 29, 'Z': 30, 's': 31, 'e': 32, 'T': 33, 'h': 34, 'O': 35, 'y': 36, 'S': 37, 'G': 38, 'u': 39, 'C': 40, 'o': 41, 'f': 42, 'r': 43, 'R': 44, 'P': 45, 'H': 46, 'B': 47, 'U': 48, 'x': 49, '.': 50, 'i': 51, 'J': 52, 'a': 53, 'I': 54, 'W': 55, 'F': 56, ';': 57, 'Y': 58, 'K': 59, 'b': 60, 'l': 61}\n"
          ]
        },
        {
          "output_type": "execute_result",
          "data": {
            "text/plain": [
              "62"
            ]
          },
          "metadata": {},
          "execution_count": 119
        }
      ]
    },
    {
      "cell_type": "code",
      "source": [
        "print(cat['Italian'][:5])\n",
        "n_cat"
      ],
      "metadata": {
        "colab": {
          "base_uri": "https://localhost:8080/"
        },
        "id": "7gFa0Q3JVw_S",
        "outputId": "a142ebf3-10f3-46a6-ed11-6502db0fe936"
      },
      "execution_count": 120,
      "outputs": [
        {
          "output_type": "stream",
          "name": "stdout",
          "text": [
            "['Abandonato', 'Abatangelo', 'Abatantuono', 'Abate', 'Abategiovanni']\n"
          ]
        },
        {
          "output_type": "execute_result",
          "data": {
            "text/plain": [
              "18"
            ]
          },
          "metadata": {},
          "execution_count": 120
        }
      ]
    },
    {
      "cell_type": "code",
      "source": [
        "def enc(letter):\n",
        "  tempt = torch.tensor([])\n",
        "  for idx,ele in enumerate(letter):\n",
        "    c = torch.nn.functional.one_hot(torch.tensor(ltoi[ele]),num_classes=ln_l)\n",
        "    tempt = torch.cat((tempt,c.unsqueeze(0)),dim=0)\n",
        "  return tempt.view(-1,1,62)"
      ],
      "metadata": {
        "id": "O9g_W56NZavi"
      },
      "execution_count": 168,
      "outputs": []
    },
    {
      "cell_type": "code",
      "source": [
        "f = enc(\"Jones\")"
      ],
      "metadata": {
        "id": "wM4NLkqDdTjK"
      },
      "execution_count": 169,
      "outputs": []
    },
    {
      "cell_type": "code",
      "source": [
        "import torch.nn as nn\n",
        "\n",
        "class RNN(nn.Module):\n",
        "    def __init__(self, input_size, hidden_size, output_size):\n",
        "        super(RNN, self).__init__()\n",
        "\n",
        "        self.hidden_size = hidden_size\n",
        "\n",
        "        self.i2h = nn.Linear(input_size + hidden_size, hidden_size)\n",
        "        self.i2o = nn.Linear(input_size + hidden_size, output_size)\n",
        "        self.softmax = nn.LogSoftmax(dim=1)\n",
        "\n",
        "    def forward(self, input, hidden):\n",
        "        combined = torch.cat((input, hidden), 1)\n",
        "        hidden = self.i2h(combined)\n",
        "        output = self.i2o(combined)\n",
        "        output = self.softmax(output)\n",
        "        return output, hidden\n",
        "\n",
        "    def initHidden(self):\n",
        "        return torch.zeros(1, self.hidden_size)\n",
        "\n",
        "n_hidden = 128\n",
        "rnn = RNN(62, n_hidden, n_cat)"
      ],
      "metadata": {
        "id": "Ff6559Jng2nq"
      },
      "execution_count": 174,
      "outputs": []
    },
    {
      "cell_type": "code",
      "source": [
        "rnn"
      ],
      "metadata": {
        "colab": {
          "base_uri": "https://localhost:8080/"
        },
        "id": "RayQBEj_iHPJ",
        "outputId": "a440d8eb-a8b2-465e-ddac-8f66ddeab53f"
      },
      "execution_count": 175,
      "outputs": [
        {
          "output_type": "execute_result",
          "data": {
            "text/plain": [
              "RNN(\n",
              "  (i2h): Linear(in_features=190, out_features=128, bias=True)\n",
              "  (i2o): Linear(in_features=190, out_features=18, bias=True)\n",
              "  (softmax): LogSoftmax(dim=1)\n",
              ")"
            ]
          },
          "metadata": {},
          "execution_count": 175
        }
      ]
    }
  ]
}